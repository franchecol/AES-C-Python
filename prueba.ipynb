{
 "cells": [
  {
   "cell_type": "code",
   "execution_count": 5,
   "metadata": {},
   "outputs": [
    {
     "name": "stdout",
     "output_type": "stream",
     "text": [
      "<class '_io.BufferedReader'>\n",
      "71751\n",
      "<class 'bytes'>\n"
     ]
    }
   ],
   "source": [
    "import socket\n",
    "import numpy as np\n",
    "from PIL import Image\n",
    "from IPython import display\n",
    " \n",
    "\n",
    "im = open(\"rengoku.jpg\",\"rb\")\n",
    "print(type(im))\n",
    "l = im.read()\n",
    "print(len(l))\n",
    "print(type(l))"
   ]
  },
  {
   "cell_type": "code",
   "execution_count": 2,
   "metadata": {},
   "outputs": [
    {
     "name": "stdout",
     "output_type": "stream",
     "text": [
      "<class '_io.BufferedReader'>\n",
      "27634\n",
      "<class 'bytes'>\n"
     ]
    }
   ],
   "source": [
    "im = open(\"lena.jpg\",\"rb\")\n",
    "print(type(im))\n",
    "l = im.read()\n",
    "print(len(l))\n",
    "print(type(l))"
   ]
  },
  {
   "cell_type": "code",
   "execution_count": null,
   "metadata": {},
   "outputs": [],
   "source": [
    "\"\"\"\n",
    "AES or also called Rijndael algorithm, is a symmetrical block cipher algorithm that takes plain text in block of\n",
    "128 bits(16 bytes) and converts them to ciphertext using keys of 128,192 and 256 bits. Since the AES algorithm is\n",
    "considered secured,it is the worldwide standard.\n",
    "\"\"\"\n",
    "\"\"\"\n",
    "128 bit input -> AES -> 128 bit output\n",
    "                  ^\n",
    "                  |\n",
    "              128/192/256\n",
    "                 keys          \n",
    "\"\"\"\n",
    "\"\"\"\n",
    "\n",
    "\n",
    "\"\"\"\n",
    "\n"
   ]
  },
  {
   "cell_type": "markdown",
   "metadata": {},
   "source": [
    "# ¿How does it works?\n",
    "The AES algorithm uses a substitution-permutation, or SP network, with multiple rounds to produce ciphertext.\n",
    "The number of rounds depends on the key size bieng used. A 128-bit key size dictates ten rounds, a 192 bit key size dictates 12 rounds, and a 256-bit key size has 14 rounds. Each of these rounds requires a round key, but since only one key is inputted into the algorithm, this key needs to be expanded to get keys for each round, including round 0.\n",
    "\n",
    "<img src=\"Images/keys.jpg\" alt=\"isolated\" width=\"400\" height = \"400\"/>\n",
    "\n",
    "# Steps in each round\n",
    "Each round in the algorithm consists of four steps.\n",
    "\n",
    "1. Substitution of the bytes\n",
    "In the first step, the bytes of the block text are substituted based on rules dictated by predefined S-boxes \n",
    "(short for substitution boxes).\n",
    "\n",
    "<img src=\"Images/firststep.jpg\" alt=\"isolated\" width=\"400\" height = \"400\"/>\n",
    "\n",
    "2. \n"
   ]
  },
  {
   "cell_type": "code",
   "execution_count": null,
   "metadata": {},
   "outputs": [],
   "source": []
  }
 ],
 "metadata": {
  "kernelspec": {
   "display_name": "Python 3.9.12 ('base')",
   "language": "python",
   "name": "python3"
  },
  "language_info": {
   "codemirror_mode": {
    "name": "ipython",
    "version": 3
   },
   "file_extension": ".py",
   "mimetype": "text/x-python",
   "name": "python",
   "nbconvert_exporter": "python",
   "pygments_lexer": "ipython3",
   "version": "3.9.12"
  },
  "orig_nbformat": 4,
  "vscode": {
   "interpreter": {
    "hash": "c9f76163571d0f5ae18f9f1d5e23a4a000bae715425641c8a11832282a9eb7a5"
   }
  }
 },
 "nbformat": 4,
 "nbformat_minor": 2
}
