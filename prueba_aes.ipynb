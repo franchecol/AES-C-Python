{
 "cells": [
  {
   "cell_type": "code",
   "execution_count": 5,
   "metadata": {},
   "outputs": [
    {
     "name": "stdout",
     "output_type": "stream",
     "text": [
      "<class '_io.BufferedReader'>\n",
      "71751\n",
      "<class 'bytes'>\n"
     ]
    }
   ],
   "source": [
    "import socket\n",
    "import numpy as np\n",
    "from PIL import Image\n",
    "from IPython import display\n",
    " \n",
    "\n",
    "im = open(\"rengoku.jpg\",\"rb\")\n",
    "print(type(im))\n",
    "l = im.read()\n",
    "print(len(l))\n",
    "print(type(l))"
   ]
  },
  {
   "cell_type": "code",
   "execution_count": 2,
   "metadata": {},
   "outputs": [
    {
     "name": "stdout",
     "output_type": "stream",
     "text": [
      "<class '_io.BufferedReader'>\n",
      "27634\n",
      "<class 'bytes'>\n"
     ]
    }
   ],
   "source": [
    "im = open(\"lena.jpg\",\"rb\")\n",
    "print(type(im))\n",
    "l = im.read()\n",
    "print(len(l))\n",
    "print(type(l))"
   ]
  }
 ],
 "metadata": {
  "kernelspec": {
   "display_name": "Python 3.9.12 ('base')",
   "language": "python",
   "name": "python3"
  },
  "language_info": {
   "codemirror_mode": {
    "name": "ipython",
    "version": 3
   },
   "file_extension": ".py",
   "mimetype": "text/x-python",
   "name": "python",
   "nbconvert_exporter": "python",
   "pygments_lexer": "ipython3",
   "version": "3.9.12"
  },
  "orig_nbformat": 4,
  "vscode": {
   "interpreter": {
    "hash": "c9f76163571d0f5ae18f9f1d5e23a4a000bae715425641c8a11832282a9eb7a5"
   }
  }
 },
 "nbformat": 4,
 "nbformat_minor": 2
}
